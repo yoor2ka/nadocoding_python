{
 "cells": [
  {
   "cell_type": "code",
   "execution_count": 1,
   "metadata": {},
   "outputs": [
    {
     "name": "stdout",
     "output_type": "stream",
     "text": [
      "5\n"
     ]
    }
   ],
   "source": [
    "# p.41\n",
    "print(5)"
   ]
  },
  {
   "cell_type": "code",
   "execution_count": 3,
   "metadata": {},
   "outputs": [
    {
     "name": "stdout",
     "output_type": "stream",
     "text": [
      "-10\n",
      "3.14\n",
      "1000\n"
     ]
    }
   ],
   "source": [
    "# p.41\n",
    "print(-10)\n",
    "print(3.14)\n",
    "print(1000)"
   ]
  },
  {
   "cell_type": "code",
   "execution_count": 4,
   "metadata": {},
   "outputs": [
    {
     "name": "stdout",
     "output_type": "stream",
     "text": [
      "8\n",
      "16\n",
      "2.0\n",
      "12\n"
     ]
    }
   ],
   "source": [
    "# p.42\n",
    "print(5 + 3)\n",
    "print(2 * 8)\n",
    "print(6 / 3)\n",
    "print(3 * (3 + 1))"
   ]
  },
  {
   "cell_type": "code",
   "execution_count": 5,
   "metadata": {},
   "outputs": [
    {
     "name": "stdout",
     "output_type": "stream",
     "text": [
      "-10\n"
     ]
    }
   ],
   "source": [
    "# p.43\n",
    "# 1분 퀴즈\n",
    "# 1. 다음 중 숫자 자료형 -10을 출력하기 위한 방법으로 알맞은 것은?\n",
    "print(-10)"
   ]
  },
  {
   "cell_type": "code",
   "execution_count": 6,
   "metadata": {},
   "outputs": [
    {
     "name": "stdout",
     "output_type": "stream",
     "text": [
      "풍선\n",
      "나비\n",
      "abcdefg\n",
      "10\n",
      "파이썬파이썬파이썬\n"
     ]
    }
   ],
   "source": [
    "# p.44\n",
    "print('풍선')\n",
    "print(\"나비\")\n",
    "print(\"abcdefg\")\n",
    "print(\"10\")\n",
    "print(\"파이썬\" * 3)"
   ]
  },
  {
   "cell_type": "code",
   "execution_count": 7,
   "metadata": {},
   "outputs": [
    {
     "ename": "SyntaxError",
     "evalue": "unterminated string literal (detected at line 1) (2073284491.py, line 1)",
     "output_type": "error",
     "traceback": [
      "\u001b[0;36m  Cell \u001b[0;32mIn[7], line 1\u001b[0;36m\u001b[0m\n\u001b[0;31m    print('작은따옴표\")\u001b[0m\n\u001b[0m          ^\u001b[0m\n\u001b[0;31mSyntaxError\u001b[0m\u001b[0;31m:\u001b[0m unterminated string literal (detected at line 1)\n"
     ]
    }
   ],
   "source": [
    "# p.45\n",
    "print('작은따옴표\")\n",
    "print(\"큰따옴표')"
   ]
  },
  {
   "cell_type": "code",
   "execution_count": 9,
   "metadata": {},
   "outputs": [
    {
     "name": "stdout",
     "output_type": "stream",
     "text": [
      "I don't want to go to school\n"
     ]
    }
   ],
   "source": [
    "# p.45\n",
    "# Note 문자열에서 작음따옴표와 큰따옴표의 차이는 무엇인가요?\n",
    "print(\"I don't want to go to school\") # 정상 출력\n",
    "# print('I don't want to go to school') #오류 발생"
   ]
  },
  {
   "cell_type": "code",
   "execution_count": 10,
   "metadata": {},
   "outputs": [
    {
     "data": {
      "text/plain": [
       "'마우스'"
      ]
     },
     "execution_count": 10,
     "metadata": {},
     "output_type": "execute_result"
    }
   ],
   "source": [
    "# p.45\n",
    "# 1분 퀴즈\n",
    "# 2. 다음 중 문자열 자료형을 표시하는 방법으로 알맞은 것은?\n",
    "\"마우스\""
   ]
  },
  {
   "cell_type": "code",
   "execution_count": 12,
   "metadata": {},
   "outputs": [
    {
     "name": "stdout",
     "output_type": "stream",
     "text": [
      "False\n",
      "True\n"
     ]
    }
   ],
   "source": [
    "# p.46\n",
    "print(5 > 10)\n",
    "print(5 < 10)"
   ]
  },
  {
   "cell_type": "code",
   "execution_count": 13,
   "metadata": {},
   "outputs": [
    {
     "name": "stdout",
     "output_type": "stream",
     "text": [
      "True\n",
      "False\n"
     ]
    }
   ],
   "source": [
    "# p.47\n",
    "print(True)\n",
    "print(False)"
   ]
  },
  {
   "cell_type": "code",
   "execution_count": 14,
   "metadata": {},
   "outputs": [
    {
     "name": "stdout",
     "output_type": "stream",
     "text": [
      "False\n",
      "True\n"
     ]
    }
   ],
   "source": [
    "# p.47\n",
    "print(not True)\n",
    "print(not False)"
   ]
  },
  {
   "cell_type": "code",
   "execution_count": 15,
   "metadata": {},
   "outputs": [
    {
     "name": "stdout",
     "output_type": "stream",
     "text": [
      "True\n"
     ]
    }
   ],
   "source": [
    "# p.47\n",
    "print(not (5 > 10))"
   ]
  },
  {
   "cell_type": "code",
   "execution_count": null,
   "metadata": {},
   "outputs": [],
   "source": [
    "# p.48\n",
    "# 다음 중 불 자료형에 대한 설명으로 잘못된 것은?\n",
    "# 4번. 불자료형 앞에 not을 붙이면 None이 된다."
   ]
  },
  {
   "cell_type": "code",
   "execution_count": null,
   "metadata": {},
   "outputs": [],
   "source": [
    "# p.49\n",
    "print(\"반려동물을 소개해 주세요.\")\n",
    "print(\"우리 집 반려동물은 개인데, 이름이 연탄이예요.\")\n",
    "print(\"연탄이는 4살이고, 산책을 아주 좋아해요.\")\n",
    "print(\"연탄이는 수컷인가요?\")\n",
    "print(\"네.\")"
   ]
  },
  {
   "cell_type": "code",
   "execution_count": 21,
   "metadata": {},
   "outputs": [
    {
     "name": "stdout",
     "output_type": "stream",
     "text": [
      "반려동물을 소개해 주세요.\n",
      "우리 집 반려동물은 개인데, 이름이 연탄이예요.\n",
      "연탄이는 4살이고, 산책을 아주 좋아해요.\n",
      "우리집 반려동물은 개인데, 이름이 연탄이예요\n",
      "연탄이는 4살이고, 산책을 아주 좋아해요\n"
     ]
    }
   ],
   "source": [
    "# p.50, p.52, p.53, p.54\n",
    "name = \"연탄이\"\n",
    "animal = \"개\"\n",
    "age = 4\n",
    "hobby = \"산책\"\n",
    "is_male = True\n",
    "\n",
    "print(\"반려동물을 소개해 주세요.\")\n",
    "print(\"우리 집 반려동물은 개인데, 이름이 연탄이예요.\")\n",
    "print(\"연탄이는 4살이고, 산책을 아주 좋아해요.\")\n",
    "\n",
    "print(\"우리집 반려동물은 \" + animal + \"인데, 이름이 \" + name + \"예요\")\n",
    "# print(name + \"는 \" + age + \"살이고, \" + hobby + \"을 아주 좋아해요\")\n",
    "print(name + \"는 \" + str(age) + \"살이고, \" + hobby + \"을 아주 좋아해요\")"
   ]
  },
  {
   "cell_type": "code",
   "execution_count": 22,
   "metadata": {},
   "outputs": [
    {
     "name": "stdout",
     "output_type": "stream",
     "text": [
      "반려동물을 소개해 주세요.\n",
      "우리집 반려동물은 고양이인데, 이름이 해피예요\n",
      "해피는 4살이고, 낮잠을 아주 좋아해요\n"
     ]
    }
   ],
   "source": [
    "# p.54\n",
    "name = \"해피\"\n",
    "animal = \"고양이\"\n",
    "age = 4\n",
    "hobby = \"낮잠\"\n",
    "\n",
    "print(\"반려동물을 소개해 주세요.\")\n",
    "print(\"우리집 반려동물은 \" + animal + \"인데, 이름이 \" + name + \"예요\")\n",
    "print(name + \"는 \" + str(age) + \"살이고, \" + hobby + \"을 아주 좋아해요\")"
   ]
  },
  {
   "cell_type": "code",
   "execution_count": 27,
   "metadata": {},
   "outputs": [
    {
     "name": "stdout",
     "output_type": "stream",
     "text": [
      "연탄이는 4살이고, 산책을 아주 좋아해요\n",
      "연탄이 는 4 살이고, 산책 을 아주 좋아해요\n"
     ]
    }
   ],
   "source": [
    "# p.55\n",
    "name = \"연탄이\"\n",
    "animal = \"개\"\n",
    "age = 4\n",
    "hobby = \"산책\"\n",
    "\n",
    "print(name + \"는 \" + str(age) + \"살이고, \" + hobby + \"을 아주 좋아해요\")\n",
    "print(name, \"는\", age, \"살이고,\", hobby, \"을 아주 좋아해요\")"
   ]
  },
  {
   "cell_type": "code",
   "execution_count": 28,
   "metadata": {},
   "outputs": [
    {
     "ename": "TypeError",
     "evalue": "unsupported operand type(s) for +: 'int' and 'str'",
     "output_type": "error",
     "traceback": [
      "\u001b[0;31m---------------------------------------------------------------------------\u001b[0m",
      "\u001b[0;31mTypeError\u001b[0m                                 Traceback (most recent call last)",
      "Cell \u001b[0;32mIn[28], line 1\u001b[0m\n\u001b[0;32m----> 1\u001b[0m \u001b[39mprint\u001b[39m(\u001b[39mint\u001b[39;49m(\u001b[39m\"\u001b[39;49m\u001b[39m3\u001b[39;49m\u001b[39m\"\u001b[39;49m) \u001b[39m+\u001b[39;49m \u001b[39m\"\u001b[39;49m\u001b[39m입니다.\u001b[39;49m\u001b[39m\"\u001b[39;49m)\n",
      "\u001b[0;31mTypeError\u001b[0m: unsupported operand type(s) for +: 'int' and 'str'"
     ]
    }
   ],
   "source": [
    "# p.56\n",
    "print(int(\"3\") + \"입니다.\")"
   ]
  },
  {
   "cell_type": "code",
   "execution_count": 32,
   "metadata": {},
   "outputs": [
    {
     "name": "stdout",
     "output_type": "stream",
     "text": [
      "3\n"
     ]
    }
   ],
   "source": [
    "# p.56\n",
    "print(int(3.5))"
   ]
  },
  {
   "cell_type": "code",
   "execution_count": 33,
   "metadata": {},
   "outputs": [
    {
     "ename": "ValueError",
     "evalue": "invalid literal for int() with base 10: '삼'",
     "output_type": "error",
     "traceback": [
      "\u001b[0;31m---------------------------------------------------------------------------\u001b[0m",
      "\u001b[0;31mValueError\u001b[0m                                Traceback (most recent call last)",
      "Cell \u001b[0;32mIn[33], line 2\u001b[0m\n\u001b[1;32m      1\u001b[0m \u001b[39m# p.56\u001b[39;00m\n\u001b[0;32m----> 2\u001b[0m \u001b[39mprint\u001b[39m(\u001b[39mint\u001b[39;49m(\u001b[39m\"\u001b[39;49m\u001b[39m삼\u001b[39;49m\u001b[39m\"\u001b[39;49m))\n",
      "\u001b[0;31mValueError\u001b[0m: invalid literal for int() with base 10: '삼'"
     ]
    }
   ],
   "source": [
    "# p.56\n",
    "print(int(\"삼\"))"
   ]
  },
  {
   "cell_type": "code",
   "execution_count": 35,
   "metadata": {},
   "outputs": [
    {
     "name": "stdout",
     "output_type": "stream",
     "text": [
      "3.5\n",
      "3.0\n"
     ]
    }
   ],
   "source": [
    "# p.57\n",
    "print(float(\"3.5\"))\n",
    "print(float(3))"
   ]
  },
  {
   "cell_type": "code",
   "execution_count": 36,
   "metadata": {},
   "outputs": [
    {
     "ename": "ValueError",
     "evalue": "could not convert string to float: '오'",
     "output_type": "error",
     "traceback": [
      "\u001b[0;31m---------------------------------------------------------------------------\u001b[0m",
      "\u001b[0;31mValueError\u001b[0m                                Traceback (most recent call last)",
      "Cell \u001b[0;32mIn[36], line 2\u001b[0m\n\u001b[1;32m      1\u001b[0m \u001b[39m# p.57\u001b[39;00m\n\u001b[0;32m----> 2\u001b[0m \u001b[39mprint\u001b[39m(\u001b[39mfloat\u001b[39;49m(\u001b[39m\"\u001b[39;49m\u001b[39m오\u001b[39;49m\u001b[39m\"\u001b[39;49m))\n",
      "\u001b[0;31mValueError\u001b[0m: could not convert string to float: '오'"
     ]
    }
   ],
   "source": [
    "# p.57\n",
    "print(float(\"오\"))"
   ]
  },
  {
   "cell_type": "code",
   "execution_count": 37,
   "metadata": {},
   "outputs": [
    {
     "name": "stdout",
     "output_type": "stream",
     "text": [
      "3입니다.\n",
      "3.5입니다.\n"
     ]
    }
   ],
   "source": [
    "# p.57\n",
    "print(str(3) + \"입니다.\")\n",
    "print(str(3.5) + \"입니다.\")"
   ]
  },
  {
   "cell_type": "code",
   "execution_count": 38,
   "metadata": {},
   "outputs": [
    {
     "name": "stdout",
     "output_type": "stream",
     "text": [
      "<class 'int'>\n",
      "<class 'str'>\n",
      "<class 'float'>\n",
      "<class 'str'>\n"
     ]
    }
   ],
   "source": [
    "# p.58\n",
    "# Note type()\n",
    "print(type(3)) # 정수(int)\n",
    "print(type(\"3\")) # 문자열(str)\n",
    "print(type(3.5)) # 실수(float)\n",
    "print(type(str(3))) # 정수(int)를 문자열(str)로 형변환"
   ]
  },
  {
   "cell_type": "code",
   "execution_count": 41,
   "metadata": {},
   "outputs": [
    {
     "ename": "NameError",
     "evalue": "name 'name' is not defined",
     "output_type": "error",
     "traceback": [
      "\u001b[0;31m---------------------------------------------------------------------------\u001b[0m",
      "\u001b[0;31mNameError\u001b[0m                                 Traceback (most recent call last)",
      "Cell \u001b[0;32mIn[41], line 2\u001b[0m\n\u001b[1;32m      1\u001b[0m \u001b[39m# p.59\u001b[39;00m\n\u001b[0;32m----> 2\u001b[0m \u001b[39mdel\u001b[39;00m name \u001b[39m# 전에 name에 변수를 정의했던 게 남아있어서 원하는 결과가 나오지 않았다.\u001b[39;00m\n\u001b[1;32m      3\u001b[0m animal \u001b[39m=\u001b[39m \u001b[39m\"\u001b[39m\u001b[39m개\u001b[39m\u001b[39m\"\u001b[39m\n\u001b[1;32m      4\u001b[0m age \u001b[39m=\u001b[39m \u001b[39m4\u001b[39m\n",
      "\u001b[0;31mNameError\u001b[0m: name 'name' is not defined"
     ]
    }
   ],
   "source": [
    "# p.59\n",
    "del name # 전에 name에 변수를 정의했던 게 남아있어서 원하는 결과가 나오지 않았다.\n",
    "animal = \"개\"\n",
    "age = 4\n",
    "hobby = \"산책\"\n",
    "\n",
    "print(\"반려동물을 소개해 주세요.\")\n",
    "print(\"우리 집 반려동물은 \" + animal + \"인데, 이름이 \" + name + \"예요.\")\n",
    "name = \"연탄이\"\n",
    "print(name + \"는 \" + str(age) + \"살이고, \" + hobby + \"을 아주 좋아해요.\")"
   ]
  },
  {
   "cell_type": "code",
   "execution_count": 42,
   "metadata": {},
   "outputs": [
    {
     "name": "stdout",
     "output_type": "stream",
     "text": [
      "반려동물을 소개해 주세요.\n",
      "우리 집 반려동물은 개인데, 이름이 연탄이예요\n",
      "연탄이는 4살이고, 수영을 아주 좋아해요\n"
     ]
    }
   ],
   "source": [
    "# p.59\n",
    "name = \"연탄이\"\n",
    "animal = \"개\"\n",
    "age = 4\n",
    "hobby = \"산책\"\n",
    "\n",
    "print(\"반려동물을 소개해 주세요.\")\n",
    "print(\"우리 집 반려동물은 \" + animal + \"인데, 이름이 \" + name + \"예요\")\n",
    "hobby = \"수영\"\n",
    "print(name + \"는 \" + str(age) + \"살이고, \" + hobby + \"을 아주 좋아해요\")"
   ]
  },
  {
   "cell_type": "code",
   "execution_count": 45,
   "metadata": {},
   "outputs": [
    {
     "name": "stdout",
     "output_type": "stream",
     "text": [
      "3\n"
     ]
    }
   ],
   "source": [
    "# p.60\n",
    "# 1분 퀴즈\n",
    "\n",
    "# 4. 다음 중 변수에 대한 설명으로 잘못된 것은?\n",
    "# 3번. 변수의 값은 한번 정의하면 바꿀 수 없다.\n",
    "\n",
    "# 5. 다음과 같이 변수가 정의되어 있을 때, 변수의 값을 출력하기 위한 방법으로 알맞은 것은?\n",
    "number = 3\n",
    "print(number) # 2번"
   ]
  },
  {
   "cell_type": "code",
   "execution_count": 47,
   "metadata": {},
   "outputs": [
    {
     "name": "stdout",
     "output_type": "stream",
     "text": [
      "우리 집 반려동물은 개인데, 이름이 연탄이예요\n",
      "연탄이는 4살이고, 수영을 아주 좋아해요\n"
     ]
    }
   ],
   "source": [
    "# p.62\n",
    "name = \"연탄이\"\n",
    "animal = \"개\"\n",
    "age = 4\n",
    "hobby = \"산책\"\n",
    "\n",
    "# print(\"반려동물을 소개해 주세요.\")\n",
    "print(\"우리 집 반려동물은 \" + animal + \"인데, 이름이 \" + name + \"예요\")\n",
    "hobby = \"수영\"\n",
    "print(name + \"는 \" + str(age) + \"살이고, \" + hobby + \"을 아주 좋아해요\")"
   ]
  },
  {
   "cell_type": "code",
   "execution_count": 76,
   "metadata": {},
   "outputs": [
    {
     "data": {
      "text/plain": [
       "'\\n# print(\"반려동물을 소개해 주세요.\")\\nprint(\"우리 집 반려동물은 \" + animal + \"인데, 이름이 \" + name + \"예요\") # 종류, 이름\\nprint(name + \"는 \" + str(age) + \"살이고, \" + hobby + \"을 아주 좋아해요\") # 나이, 취미\\n'"
      ]
     },
     "execution_count": 76,
     "metadata": {},
     "output_type": "execute_result"
    }
   ],
   "source": [
    "# p.62\n",
    "name = \"연탄이\" # 이름\n",
    "animal = \"개\" # 종류\n",
    "age = 4\n",
    "hobby = \"산책\" # 취미\n",
    "\n",
    "# print(\"반려동물을 소개해 주세요.\")\n",
    "print(\"우리 집 반려동물은 \" + animal + \"인데, 이름이 \" + name + \"예요\") # 종류, 이름\n",
    "print(name + \"는 \" + str(age) + \"살이고, \" + hobby + \"을 아주 좋아해요\") # 나이, 취미"
   ]
  },
  {
   "cell_type": "code",
   "execution_count": 96,
   "metadata": {},
   "outputs": [
    {
     "data": {
      "text/plain": [
       "'\\n# print(\"반려동물을 소개해 주세요.\")\\nprint(\"우리 집 반려동물은 \" + animal + \"인데, 이름이 \" + name + \"예요\") # 종류, 이름\\nprint(name + \"는 \" + str(age) + \"살이고, \" + hobby + \"을 아주 좋아해요\") # 나이, 취미\\n'"
      ]
     },
     "execution_count": 96,
     "metadata": {},
     "output_type": "execute_result"
    }
   ],
   "source": [
    "# p.62\n",
    "name = \"연탄이\" # 이름\n",
    "animal = \"개\" # 종류\n",
    "age = 4\n",
    "hobby = \"산책\" # 취미\n",
    "\n",
    "\n",
    "\"\"\"\n",
    "# print(\"반려동물을 소개해 주세요.\")\n",
    "print(\"우리 집 반려동물은 \" + animal + \"인데, 이름이 \" + name + \"예요\") # 종류, 이름\n",
    "print(name + \"는 \" + str(age) + \"살이고, \" + hobby + \"을 아주 좋아해요\") # 나이, 취미\n",
    "\"\"\""
   ]
  },
  {
   "cell_type": "code",
   "execution_count": 104,
   "metadata": {},
   "outputs": [
    {
     "name": "stdout",
     "output_type": "stream",
     "text": [
      "파이썬은\n",
      "쉬워요\n"
     ]
    }
   ],
   "source": [
    "# p.63\n",
    "# 6. 다음 코드의 실행결과로 올바른 것은?\n",
    "print(\"파이썬은\")\n",
    "# print(\"처음에는\")\n",
    "print(\"쉬워요\")\n",
    "\n",
    "# 3번.\n",
    "# 답: 파이썬은\n",
    "#     쉬워요"
   ]
  },
  {
   "cell_type": "code",
   "execution_count": 110,
   "metadata": {},
   "outputs": [
    {
     "name": "stdout",
     "output_type": "stream",
     "text": [
      "사당행 열차가 들어오고 있습니다.\n"
     ]
    }
   ],
   "source": [
    "# p.64\n",
    "# 실습문제: 역 이름 출력하기\n",
    "\n",
    "station = \"사당\"\n",
    "# station = \"신도림\"\n",
    "# station = \"인천공항\"\n",
    "print(station + \"행 열차가 들어오고 있습니다.\")"
   ]
  },
  {
   "cell_type": "code",
   "execution_count": 116,
   "metadata": {},
   "outputs": [
    {
     "name": "stdout",
     "output_type": "stream",
     "text": [
      "주문 상태 : 상품 준비\n"
     ]
    }
   ],
   "source": [
    "# p.67\n",
    "# 셀프체크\n",
    "# 문제: 변수를 사용해 택배의 배송 상태를 안내하는 프로그램을 작성하세요.\n",
    "# 조건: ~\n",
    "\n",
    "status = \"상품 준비\"\n",
    "# status = \"배송 중\"\n",
    "# status = \"배송 완료\"\n",
    "\n",
    "print(\"주문 상태 : \" + status)"
   ]
  }
 ],
 "metadata": {
  "kernelspec": {
   "display_name": "Python 3",
   "language": "python",
   "name": "python3"
  },
  "language_info": {
   "codemirror_mode": {
    "name": "ipython",
    "version": 3
   },
   "file_extension": ".py",
   "mimetype": "text/x-python",
   "name": "python",
   "nbconvert_exporter": "python",
   "pygments_lexer": "ipython3",
   "version": "3.11.4"
  },
  "orig_nbformat": 4
 },
 "nbformat": 4,
 "nbformat_minor": 2
}
