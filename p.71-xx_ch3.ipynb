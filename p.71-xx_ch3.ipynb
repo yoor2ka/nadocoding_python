{
 "cells": [
  {
   "cell_type": "code",
   "execution_count": 1,
   "metadata": {},
   "outputs": [
    {
     "name": "stdout",
     "output_type": "stream",
     "text": [
      "2\n",
      "1\n",
      "10\n",
      "2.0\n"
     ]
    }
   ],
   "source": [
    "# p.72\n",
    "print(1 + 1)\n",
    "print(3 - 2)\n",
    "print(5 * 2)\n",
    "print(6 / 3)"
   ]
  },
  {
   "cell_type": "code",
   "execution_count": 2,
   "metadata": {},
   "outputs": [
    {
     "name": "stdout",
     "output_type": "stream",
     "text": [
      "8\n",
      "1\n",
      "3\n"
     ]
    }
   ],
   "source": [
    "# p.72\n",
    "print(2 ** 3)\n",
    "print(10 % 3)\n",
    "print(10 // 3)"
   ]
  },
  {
   "cell_type": "code",
   "execution_count": 4,
   "metadata": {},
   "outputs": [
    {
     "name": "stdout",
     "output_type": "stream",
     "text": [
      "True\n",
      "False\n",
      "False\n",
      "True\n"
     ]
    }
   ],
   "source": [
    "# p.73\n",
    "print(10 > 3)\n",
    "print(4 >= 7)\n",
    "print(10 < 3)\n",
    "print(5 <= 5)"
   ]
  },
  {
   "cell_type": "code",
   "execution_count": 5,
   "metadata": {},
   "outputs": [
    {
     "name": "stdout",
     "output_type": "stream",
     "text": [
      "True\n",
      "False\n",
      "True\n",
      "True\n"
     ]
    }
   ],
   "source": [
    "# p.74\n",
    "print(3 == 3)\n",
    "print(4 == 2)\n",
    "print(3 + 4 == 7)\n",
    "print(1 != 3)"
   ]
  },
  {
   "cell_type": "code",
   "execution_count": 8,
   "metadata": {},
   "outputs": [
    {
     "name": "stdout",
     "output_type": "stream",
     "text": [
      "False\n",
      "True\n",
      "False\n"
     ]
    }
   ],
   "source": [
    "# p.74\n",
    "print((3 > 0) and (3 > 5)) # False\n",
    "print((3 > 0) or (3 > 5)) # True\n",
    "print(not(1 != 3)) # False"
   ]
  },
  {
   "cell_type": "code",
   "execution_count": 11,
   "metadata": {},
   "outputs": [
    {
     "name": "stdout",
     "output_type": "stream",
     "text": [
      "True\n",
      "True\n"
     ]
    }
   ],
   "source": [
    "# c.f 논리연산자 or에서 하나만 참이면 계속 다 참이다.\n",
    "print((3 > 0) or (3 > 5) or (3 > 6)) # True\n",
    "print((3 > 0) or (3 > 5) or (3 > 6) or (3 > 7)) # True"
   ]
  },
  {
   "cell_type": "code",
   "execution_count": 12,
   "metadata": {},
   "outputs": [
    {
     "name": "stdout",
     "output_type": "stream",
     "text": [
      "True\n",
      "False\n"
     ]
    }
   ],
   "source": [
    "# p.75\n",
    "print(5 > 4 > 3)\n",
    "print(4 > 5 > 3)"
   ]
  },
  {
   "cell_type": "code",
   "execution_count": 19,
   "metadata": {},
   "outputs": [
    {
     "name": "stdout",
     "output_type": "stream",
     "text": [
      "8\n",
      "2.0\n",
      "2\n"
     ]
    }
   ],
   "source": [
    "# p.75\n",
    "# 1분 퀴즈\n",
    "\n",
    "# 1. 다음 코드의 실행결과로 올바른 것은?\n",
    "print(5 + 3) # 8\n",
    "# 3번. 8\n",
    "\n",
    "# 2. 다음 코드의 실행결과로 올바른 것은?\n",
    "print(6 / 3) # 2.0\n",
    "# 4번. 2.0\n",
    "\n",
    "# 3. 다음 코드의 실행결과로 올바른 것은?\n",
    "print(5 % 3) # 2\n",
    "# 2번. 2\n",
    "\n",
    "# 4. 다음 연산의 의미로 올바른 것은?\n",
    "# (5 < 3) or (7 < 3) # False\n",
    "# 1번. 5가 3보다 작거나 7이 3보다 작다"
   ]
  },
  {
   "cell_type": "code",
   "execution_count": 21,
   "metadata": {},
   "outputs": [
    {
     "name": "stdout",
     "output_type": "stream",
     "text": [
      "14\n",
      "20\n"
     ]
    }
   ],
   "source": [
    "# p.77\n",
    "print(2 + 3 * 4)\n",
    "print((2 + 3) * 4)"
   ]
  },
  {
   "cell_type": "code",
   "execution_count": 22,
   "metadata": {},
   "outputs": [
    {
     "name": "stdout",
     "output_type": "stream",
     "text": [
      "14\n"
     ]
    }
   ],
   "source": [
    "# p.78\n",
    "# 5. 다음 코드에 대해 잘못 설명한 사람은?\n",
    "print(2 + 3 * 4)\n",
    "# 2번."
   ]
  },
  {
   "cell_type": "code",
   "execution_count": 23,
   "metadata": {},
   "outputs": [
    {
     "name": "stdout",
     "output_type": "stream",
     "text": [
      "14\n"
     ]
    }
   ],
   "source": [
    "# p.79\n",
    "number = 2 + 3 * 4\n",
    "print(number)"
   ]
  },
  {
   "cell_type": "code",
   "execution_count": 24,
   "metadata": {},
   "outputs": [
    {
     "name": "stdout",
     "output_type": "stream",
     "text": [
      "14\n",
      "16\n"
     ]
    }
   ],
   "source": [
    "# p.79\n",
    "number = 2 + 3 * 4\n",
    "print(number)\n",
    "number = 2 + 3 * 4 + 2\n",
    "print(number)"
   ]
  },
  {
   "cell_type": "code",
   "execution_count": 25,
   "metadata": {},
   "outputs": [
    {
     "name": "stdout",
     "output_type": "stream",
     "text": [
      "14\n",
      "16\n"
     ]
    }
   ],
   "source": [
    "number = 2 + 3 * 4\n",
    "print(number)\n",
    "number = number + 2\n",
    "print(number)"
   ]
  },
  {
   "cell_type": "code",
   "execution_count": null,
   "metadata": {},
   "outputs": [],
   "source": []
  }
 ],
 "metadata": {
  "kernelspec": {
   "display_name": "Python 3",
   "language": "python",
   "name": "python3"
  },
  "language_info": {
   "codemirror_mode": {
    "name": "ipython",
    "version": 3
   },
   "file_extension": ".py",
   "mimetype": "text/x-python",
   "name": "python",
   "nbconvert_exporter": "python",
   "pygments_lexer": "ipython3",
   "version": "3.11.4"
  },
  "orig_nbformat": 4
 },
 "nbformat": 4,
 "nbformat_minor": 2
}
