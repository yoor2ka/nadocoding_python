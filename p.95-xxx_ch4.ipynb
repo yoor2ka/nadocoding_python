{
 "cells": [
  {
   "cell_type": "code",
   "execution_count": 1,
   "metadata": {},
   "outputs": [
    {
     "name": "stdout",
     "output_type": "stream",
     "text": [
      "나는 소년입니다.\n"
     ]
    }
   ],
   "source": [
    "# p.95\n",
    "sentence1 = '나는 소년입니다.'\n",
    "print(sentence1)"
   ]
  },
  {
   "cell_type": "code",
   "execution_count": 2,
   "metadata": {},
   "outputs": [
    {
     "name": "stdout",
     "output_type": "stream",
     "text": [
      "파이썬은 쉬워요.\n"
     ]
    }
   ],
   "source": [
    "# p.95\n",
    "sentence2 = \"파이썬은 쉬워요.\"\n",
    "print(sentence2)"
   ]
  },
  {
   "cell_type": "code",
   "execution_count": 3,
   "metadata": {},
   "outputs": [
    {
     "name": "stdout",
     "output_type": "stream",
     "text": [
      "나는 소년입니다. <class 'str'>\n",
      "파이썬은 쉬워요. <class 'str'>\n"
     ]
    }
   ],
   "source": [
    "# p.95\n",
    "sentence1 = '나는 소년입니다.'\n",
    "print(sentence1, type(sentence1))\n",
    "sentence2 = \"파이썬은 쉬워요.\"\n",
    "print(sentence2, type(sentence2))"
   ]
  },
  {
   "cell_type": "code",
   "execution_count": 8,
   "metadata": {},
   "outputs": [
    {
     "name": "stdout",
     "output_type": "stream",
     "text": [
      "\n",
      "나는 소년이고,\n",
      "파이썬은 쉬워요.\n",
      "\n"
     ]
    }
   ],
   "source": [
    "# p.96\n",
    "sentence3 = \"\"\"\n",
    "나는 소년이고,\n",
    "파이썬은 쉬워요.\n",
    "\"\"\"\n",
    "print(sentence3)"
   ]
  },
  {
   "cell_type": "code",
   "execution_count": 9,
   "metadata": {},
   "outputs": [
    {
     "name": "stdout",
     "output_type": "stream",
     "text": [
      "파인애플\n"
     ]
    }
   ],
   "source": [
    "# p.96\n",
    "# 1. 다음 코드의 실행결과로 올바른 것은?\n",
    "print(\"파인\" + \"애플\") # 파인애플\n",
    "# 1번. 파인애플"
   ]
  },
  {
   "cell_type": "code",
   "execution_count": 11,
   "metadata": {},
   "outputs": [
    {
     "name": "stdout",
     "output_type": "stream",
     "text": [
      "<class 'str'>\n",
      "사진 <class 'str'>\n"
     ]
    }
   ],
   "source": [
    "# p.96\n",
    "# 2. 다음 중 photo 변수의 자료형을 확인하기 위한 방법으로 올바른 것은?\n",
    "photo = \"사진\"\n",
    "print(type(photo))\n",
    "# or\n",
    "print(photo, type(photo))\n",
    "# 2번. type(photo)"
   ]
  },
  {
   "cell_type": "code",
   "execution_count": 12,
   "metadata": {},
   "outputs": [
    {
     "name": "stdout",
     "output_type": "stream",
     "text": [
      "성별 식별번호 : 1\n"
     ]
    }
   ],
   "source": [
    "# p.98\n",
    "jumin = \"990229-1234567\"\n",
    "print(\"성별 식별번호 : \" + jumin[7])"
   ]
  },
  {
   "cell_type": "code",
   "execution_count": 15,
   "metadata": {},
   "outputs": [
    {
     "name": "stdout",
     "output_type": "stream",
     "text": [
      "연 : 99\n",
      "월 : 02\n",
      "일 : 29\n"
     ]
    }
   ],
   "source": [
    "# p.98\n",
    "jumin = \"990229-1234567\"\n",
    "print(\"연 : \" + jumin[0:2]) # 0부터 2직전까지(0, 1)\n",
    "print(\"월 : \" + jumin[2:4]) # 2부터 4직전까지(2, 3)\n",
    "print(\"일 : \" + jumin[4:6]) # 4부터 6직전까지(4, 5)"
   ]
  },
  {
   "cell_type": "code",
   "execution_count": 21,
   "metadata": {},
   "outputs": [
    {
     "name": "stdout",
     "output_type": "stream",
     "text": [
      "생년월일 : 990229\n",
      "주민등록 뒷자리 : 1234567\n"
     ]
    }
   ],
   "source": [
    "# p.99\n",
    "jumin = \"990229-1234567\"\n",
    "print(\"생년월일 : \" + jumin[:6]) # 처음부터 6 직전까지 -> jumin[0:6]과 같음\n",
    "print(\"주민등록 뒷자리 : \" + jumin[7:]) # 7부터 끝까지 -> jumin[7:14]와 같음\n",
    "# print(\"주민등록 뒷자리 : \" + jumin[7:14])로 해도 위와 똑같은 결과가 나오긴 한다."
   ]
  },
  {
   "cell_type": "code",
   "execution_count": 22,
   "metadata": {},
   "outputs": [
    {
     "name": "stdout",
     "output_type": "stream",
     "text": [
      "주민등록번호 뒷자리(뒤에서부터) : 123456\n"
     ]
    }
   ],
   "source": [
    "# p.99\n",
    "print(\"주민등록번호 뒷자리(뒤에서부터) : \" + jumin[-7:-1]) # 뒤에서 7번째 위치부터 끝까지"
   ]
  },
  {
   "cell_type": "code",
   "execution_count": 30,
   "metadata": {},
   "outputs": [
    {
     "name": "stdout",
     "output_type": "stream",
     "text": [
      "도\n",
      "나도\n",
      "apple\n",
      "apple\n",
      "apple\n",
      "appl\n"
     ]
    }
   ],
   "source": [
    "# p.100\n",
    "\n",
    "# 1분 퀴즈\n",
    "\n",
    "# 3. 다음 코드의 실행결과로 올바른 것은?\n",
    "msg = \"나도코딩\"\n",
    "print(msg[1])\n",
    "# 2번. 도\n",
    "\n",
    "# 4. 실행결과를 얻기 위해 '가'에 들어갈 코드로 올바른 것은?\n",
    "msg = \"나도코딩\"\n",
    "print(msg[:2]) # print(msg[0:2]\n",
    "# 2번. print(msg[:2])\n",
    "\n",
    "# 5. 다음과 같은 실행결과가 나왔을 때 '가'에 들어갈 코드로 알맞지 않은 것은?\n",
    "fruit = \"apple\"\n",
    "print(fruit[:])\n",
    "print(fruit[0:])\n",
    "print(fruit[:5])\n",
    "print(fruit[:-1]) # appl\n",
    "# 4번. fruit[:-1]"
   ]
  },
  {
   "cell_type": "code",
   "execution_count": 3,
   "metadata": {},
   "outputs": [
    {
     "name": "stdout",
     "output_type": "stream",
     "text": [
      "python is amazing\n",
      "PYTHON IS AMAZING\n",
      "True\n",
      "True\n",
      "Java is Amazing\n"
     ]
    }
   ],
   "source": [
    "# p.102\n",
    "\n",
    "python = \"Python is Amazing\"\n",
    "\n",
    "print(python.lower()) # 전체 소문자로 변환\n",
    "print(python.upper()) # 전체 대문자로 변환\n",
    "print(python[0].isupper()) # 인덱스 0에 있는 값이 대문자인지 확인\n",
    "print(python[1:3].islower()) # 인덱스 1부터 2에 있는 값이 소문자인지 확인\n",
    "print(python.replace(\"Python\", \"Java\")) # Python을 Java로 바꾸기"
   ]
  },
  {
   "cell_type": "code",
   "execution_count": 2,
   "metadata": {},
   "outputs": [
    {
     "name": "stdout",
     "output_type": "stream",
     "text": [
      "5\n"
     ]
    }
   ],
   "source": [
    "# p.102\n",
    "\n",
    "python = \"Python is Amazing\"\n",
    "\n",
    "find = python.find(\"n\") # 처음 발견한 n의 인덱스\n",
    "print(find) # 'Python'에서 n(인덱스 5)\n"
   ]
  },
  {
   "cell_type": "code",
   "execution_count": null,
   "metadata": {},
   "outputs": [],
   "source": []
  }
 ],
 "metadata": {
  "kernelspec": {
   "display_name": "Python 3",
   "language": "python",
   "name": "python3"
  },
  "language_info": {
   "codemirror_mode": {
    "name": "ipython",
    "version": 3
   },
   "file_extension": ".py",
   "mimetype": "text/x-python",
   "name": "python",
   "nbconvert_exporter": "python",
   "pygments_lexer": "ipython3",
   "version": "3.11.4"
  },
  "orig_nbformat": 4
 },
 "nbformat": 4,
 "nbformat_minor": 2
}
