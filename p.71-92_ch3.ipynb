{
 "cells": [
  {
   "cell_type": "code",
   "execution_count": 1,
   "metadata": {},
   "outputs": [
    {
     "name": "stdout",
     "output_type": "stream",
     "text": [
      "2\n",
      "1\n",
      "10\n",
      "2.0\n"
     ]
    }
   ],
   "source": [
    "# p.72\n",
    "print(1 + 1)\n",
    "print(3 - 2)\n",
    "print(5 * 2)\n",
    "print(6 / 3)"
   ]
  },
  {
   "cell_type": "code",
   "execution_count": 2,
   "metadata": {},
   "outputs": [
    {
     "name": "stdout",
     "output_type": "stream",
     "text": [
      "8\n",
      "1\n",
      "3\n"
     ]
    }
   ],
   "source": [
    "# p.72\n",
    "print(2 ** 3)\n",
    "print(10 % 3)\n",
    "print(10 // 3)"
   ]
  },
  {
   "cell_type": "code",
   "execution_count": 4,
   "metadata": {},
   "outputs": [
    {
     "name": "stdout",
     "output_type": "stream",
     "text": [
      "True\n",
      "False\n",
      "False\n",
      "True\n"
     ]
    }
   ],
   "source": [
    "# p.73\n",
    "print(10 > 3)\n",
    "print(4 >= 7)\n",
    "print(10 < 3)\n",
    "print(5 <= 5)"
   ]
  },
  {
   "cell_type": "code",
   "execution_count": 5,
   "metadata": {},
   "outputs": [
    {
     "name": "stdout",
     "output_type": "stream",
     "text": [
      "True\n",
      "False\n",
      "True\n",
      "True\n"
     ]
    }
   ],
   "source": [
    "# p.74\n",
    "print(3 == 3)\n",
    "print(4 == 2)\n",
    "print(3 + 4 == 7)\n",
    "print(1 != 3)"
   ]
  },
  {
   "cell_type": "code",
   "execution_count": 8,
   "metadata": {},
   "outputs": [
    {
     "name": "stdout",
     "output_type": "stream",
     "text": [
      "False\n",
      "True\n",
      "False\n"
     ]
    }
   ],
   "source": [
    "# p.74\n",
    "print((3 > 0) and (3 > 5)) # False\n",
    "print((3 > 0) or (3 > 5)) # True\n",
    "print(not(1 != 3)) # False"
   ]
  },
  {
   "cell_type": "code",
   "execution_count": 11,
   "metadata": {},
   "outputs": [
    {
     "name": "stdout",
     "output_type": "stream",
     "text": [
      "True\n",
      "True\n"
     ]
    }
   ],
   "source": [
    "# c.f 논리연산자 or에서 하나만 참이면 계속 다 참이다.\n",
    "print((3 > 0) or (3 > 5) or (3 > 6)) # True\n",
    "print((3 > 0) or (3 > 5) or (3 > 6) or (3 > 7)) # True"
   ]
  },
  {
   "cell_type": "code",
   "execution_count": 12,
   "metadata": {},
   "outputs": [
    {
     "name": "stdout",
     "output_type": "stream",
     "text": [
      "True\n",
      "False\n"
     ]
    }
   ],
   "source": [
    "# p.75\n",
    "print(5 > 4 > 3)\n",
    "print(4 > 5 > 3)"
   ]
  },
  {
   "cell_type": "code",
   "execution_count": 19,
   "metadata": {},
   "outputs": [
    {
     "name": "stdout",
     "output_type": "stream",
     "text": [
      "8\n",
      "2.0\n",
      "2\n"
     ]
    }
   ],
   "source": [
    "# p.75\n",
    "# 1분 퀴즈\n",
    "\n",
    "# 1. 다음 코드의 실행결과로 올바른 것은?\n",
    "print(5 + 3) # 8\n",
    "# 3번. 8\n",
    "\n",
    "# 2. 다음 코드의 실행결과로 올바른 것은?\n",
    "print(6 / 3) # 2.0\n",
    "# 4번. 2.0\n",
    "\n",
    "# 3. 다음 코드의 실행결과로 올바른 것은?\n",
    "print(5 % 3) # 2\n",
    "# 2번. 2\n",
    "\n",
    "# 4. 다음 연산의 의미로 올바른 것은?\n",
    "# (5 < 3) or (7 < 3) # False\n",
    "# 1번. 5가 3보다 작거나 7이 3보다 작다"
   ]
  },
  {
   "cell_type": "code",
   "execution_count": 21,
   "metadata": {},
   "outputs": [
    {
     "name": "stdout",
     "output_type": "stream",
     "text": [
      "14\n",
      "20\n"
     ]
    }
   ],
   "source": [
    "# p.77\n",
    "print(2 + 3 * 4)\n",
    "print((2 + 3) * 4)"
   ]
  },
  {
   "cell_type": "code",
   "execution_count": 22,
   "metadata": {},
   "outputs": [
    {
     "name": "stdout",
     "output_type": "stream",
     "text": [
      "14\n"
     ]
    }
   ],
   "source": [
    "# p.78\n",
    "# 5. 다음 코드에 대해 잘못 설명한 사람은?\n",
    "print(2 + 3 * 4)\n",
    "# 2번."
   ]
  },
  {
   "cell_type": "code",
   "execution_count": 23,
   "metadata": {},
   "outputs": [
    {
     "name": "stdout",
     "output_type": "stream",
     "text": [
      "14\n"
     ]
    }
   ],
   "source": [
    "# p.79\n",
    "number = 2 + 3 * 4\n",
    "print(number)"
   ]
  },
  {
   "cell_type": "code",
   "execution_count": 24,
   "metadata": {},
   "outputs": [
    {
     "name": "stdout",
     "output_type": "stream",
     "text": [
      "14\n",
      "16\n"
     ]
    }
   ],
   "source": [
    "# p.79\n",
    "number = 2 + 3 * 4\n",
    "print(number)\n",
    "number = 2 + 3 * 4 + 2\n",
    "print(number)"
   ]
  },
  {
   "cell_type": "code",
   "execution_count": 25,
   "metadata": {},
   "outputs": [
    {
     "name": "stdout",
     "output_type": "stream",
     "text": [
      "14\n",
      "16\n"
     ]
    }
   ],
   "source": [
    "# p.79\n",
    "number = 2 + 3 * 4\n",
    "print(number)\n",
    "number = number + 2\n",
    "print(number)"
   ]
  },
  {
   "cell_type": "code",
   "execution_count": 26,
   "metadata": {},
   "outputs": [
    {
     "name": "stdout",
     "output_type": "stream",
     "text": [
      "14\n",
      "16\n"
     ]
    }
   ],
   "source": [
    "# p.80\n",
    "number = 2 + 3 * 4\n",
    "print(number)\n",
    "# number = number + 2\n",
    "# print(number)\n",
    "number += 2 # number = number + 2와 동일\n",
    "print(number)"
   ]
  },
  {
   "cell_type": "code",
   "execution_count": 38,
   "metadata": {},
   "outputs": [
    {
     "name": "stdout",
     "output_type": "stream",
     "text": [
      "14\n",
      "28\n",
      "14.0\n",
      "196.0\n",
      "98.0\n",
      "0.0\n"
     ]
    }
   ],
   "source": [
    "number = 16 # 여러 번 실행할 때마다 값이 바뀌어서 아예 16으로 고정시켰다.\n",
    "\n",
    "number -= 2 # number = number - 2와 동일\n",
    "print(number)\n",
    "number *= 2 # number = number * 2와 동일\n",
    "print(number)\n",
    "number /= 2 # number = number / 2와 동일\n",
    "print(number)\n",
    "number **= 2 # number = number ** 2와 동일\n",
    "print(number)\n",
    "number //= 2 # number = number // 2와 동일\n",
    "print(number)\n",
    "number %= 2 # number = number % 2와 동일\n",
    "print(number)"
   ]
  },
  {
   "cell_type": "code",
   "execution_count": 40,
   "metadata": {},
   "outputs": [
    {
     "name": "stdout",
     "output_type": "stream",
     "text": [
      "6\n"
     ]
    }
   ],
   "source": [
    "# p.81\n",
    "# 6. 다음과 같은 실행결과를 얻기 위해 '가'에 들어갈 코드로 알맞은 것은?\n",
    "num = 3\n",
    "num *= 2 # '가'\n",
    "print(num)\n",
    "# 2번. num *= 2"
   ]
  },
  {
   "cell_type": "code",
   "execution_count": 45,
   "metadata": {},
   "outputs": [
    {
     "name": "stdout",
     "output_type": "stream",
     "text": [
      "5\n",
      "16\n",
      "12\n",
      "5\n",
      "3\n",
      "4.68\n"
     ]
    }
   ],
   "source": [
    "# p.82\n",
    "print(abs(-5)) # -5의 절대값\n",
    "print(pow(4, 2)) # 4를 제곱한 값\n",
    "print(max(5, 12)) # 5와 12중 큰 값\n",
    "print(min(5, 12)) # 5와 12중 작은 값\n",
    "print(round(3.14)) # 3.14를 소수점 이하 첫째 자리에서 반올림한 정수\n",
    "print(round(4.678, 2)) # 4.678을 소수점 이하 셋째 자리에서 반올림한 값"
   ]
  },
  {
   "cell_type": "code",
   "execution_count": 48,
   "metadata": {},
   "outputs": [
    {
     "name": "stdout",
     "output_type": "stream",
     "text": [
      "4\n",
      "4\n",
      "4.0\n"
     ]
    }
   ],
   "source": [
    "# p.83\n",
    "from math import * # math 모듈의 모든 기능을 가져다 쓰겠다는 의미\n",
    "\n",
    "result = floor(4.99)\n",
    "print(result) # 4.99의 내림\n",
    "result = ceil(3.14)\n",
    "print(result) # 3.14의 올림\n",
    "result = sqrt(16)\n",
    "print(result) # 16의 제곱근"
   ]
  },
  {
   "cell_type": "code",
   "execution_count": 50,
   "metadata": {},
   "outputs": [
    {
     "name": "stdout",
     "output_type": "stream",
     "text": [
      "4\n",
      "4\n",
      "4.0\n"
     ]
    }
   ],
   "source": [
    "# p.84\n",
    "import math # math 모듈의 기능을 가져다 쓰겠다는 의미\n",
    "# math.을 함께 작성\n",
    "result = math.floor(4.99)\n",
    "print(result) # 4.99의 내림\n",
    "result = math.ceil(3.14)\n",
    "print(result) # 3.14의 올림\n",
    "result = math.sqrt(16)\n",
    "print(result) # 16의 제곱근"
   ]
  },
  {
   "cell_type": "code",
   "execution_count": 51,
   "metadata": {},
   "outputs": [
    {
     "name": "stdout",
     "output_type": "stream",
     "text": [
      "0.46615309045971\n",
      "0.6731037172247157\n",
      "0.8035060743845748\n"
     ]
    }
   ],
   "source": [
    "# p.85\n",
    "from random import * # random 모듈의 모든 기능을 가져다 쓰겠다는 의미\n",
    "\n",
    "print(random())\n",
    "print(random())\n",
    "print(random())"
   ]
  },
  {
   "cell_type": "code",
   "execution_count": 52,
   "metadata": {},
   "outputs": [],
   "source": [
    "# p.85\n",
    "# Note\n",
    "# random 모듈의 random(), randint() 함수를 가져다 쓰겠다는 의미\n",
    "from random import random, randint"
   ]
  },
  {
   "cell_type": "code",
   "execution_count": 53,
   "metadata": {},
   "outputs": [
    {
     "name": "stdout",
     "output_type": "stream",
     "text": [
      "7.1041348521537575\n",
      "5\n",
      "4\n"
     ]
    }
   ],
   "source": [
    "# p.86\n",
    "print(random() * 10) # 0.0 이상 10.0 미만에서 난수 생성\n",
    "print(int(random() * 10)) # 0 이상 10 미만 정수에서 난수 생성(random() 결과를 int()로 감싸서 정수로 변환)\n",
    "print(int(random() * 10) + 1) # 1 이상 11 미만 정수에서 난수 생성(random() 결과를 정수로 변환해 1을 더함)"
   ]
  },
  {
   "cell_type": "code",
   "execution_count": 57,
   "metadata": {},
   "outputs": [
    {
     "name": "stdout",
     "output_type": "stream",
     "text": [
      "27\n"
     ]
    }
   ],
   "source": [
    "# p.86\n",
    "print(int(random() * 45) + 1)"
   ]
  },
  {
   "cell_type": "code",
   "execution_count": 58,
   "metadata": {},
   "outputs": [
    {
     "name": "stdout",
     "output_type": "stream",
     "text": [
      "27\n",
      "13\n"
     ]
    }
   ],
   "source": [
    "# p.87\n",
    "print(randrange(1, 46)) # 1 이상 46 미만의 정수에서 난수 생성\n",
    "print(randint(1, 45)) # 1 이상 45 이하의 정수에서 난수 생성"
   ]
  },
  {
   "cell_type": "code",
   "execution_count": 59,
   "metadata": {},
   "outputs": [
    {
     "name": "stdout",
     "output_type": "stream",
     "text": [
      "44\n",
      "14\n",
      "29\n",
      "32\n",
      "32\n",
      "4\n"
     ]
    }
   ],
   "source": [
    "# p.87\n",
    "print(randint(1, 45))\n",
    "print(randint(1, 45))\n",
    "print(randint(1, 45))\n",
    "print(randint(1, 45))\n",
    "print(randint(1, 45))\n",
    "print(randint(1, 45))"
   ]
  },
  {
   "cell_type": "code",
   "execution_count": 61,
   "metadata": {},
   "outputs": [
    {
     "name": "stdout",
     "output_type": "stream",
     "text": [
      "0.14\n"
     ]
    }
   ],
   "source": [
    "# p.87\n",
    "\n",
    "# 1분 퀴즈\n",
    "\n",
    "# 7. 다음 코드의 실행결과로 올바른 것은?\n",
    "print(round(0.1357, 2)) # 0.14\n",
    "# 4번. 0.14\n",
    "\n",
    "# 8. 다음 중 random 모듈에 대해 잘못 설명한 사람은?\n",
    "# 2번. 은하: random() 함수는 0.0 이상 1.0 미만의 난수를 생성해."
   ]
  },
  {
   "cell_type": "code",
   "execution_count": 69,
   "metadata": {},
   "outputs": [
    {
     "name": "stdout",
     "output_type": "stream",
     "text": [
      "오프라인 스터디 모임 날짜는 매월 13일로 선정됐습니다.\n"
     ]
    }
   ],
   "source": [
    "# p.88\n",
    "\n",
    "# 1. 날짜를 무작위로 뽑는다.\n",
    "# 2. 월별 일수가 다르므로 최소 일수인 28일 이내로 정한다(28일까지만 날짜 선정).\n",
    "# 3. 매월 1~3일은 스터디를 준비해야 하므로 제외한다.\n",
    "# 4. 실행결과는 다음과 같은 형태로 나와야 한다. 단, 날짜는 무작위이므로 책과 결과가 다를 수 있다.\n",
    "# 오프라인 스터디 모임 날짜는 매월 18일로 선정됐습니다.\n",
    "\n",
    "study_day = randint(4, 28) # 4 이상 28 이하인 정수 난수 생성\n",
    "print(\"오프라인 스터디 모임 날짜는 매월 \" + str(study_day) + \"일로 선정됐습니다.\")"
   ]
  },
  {
   "cell_type": "code",
   "execution_count": 73,
   "metadata": {},
   "outputs": [
    {
     "name": "stdout",
     "output_type": "stream",
     "text": [
      "섭씨 온도 : 30\n",
      "화씨 온도 : 86.0\n"
     ]
    }
   ],
   "source": [
    "# p.92\n",
    "# 셀프체크\n",
    "# 문제. 연산자를 이용해 온도 단위를 변환하는 프로그램을 만들어 보세요.\n",
    "\n",
    "# 섭씨 온도가 30도일 때\n",
    "C = 30\n",
    "# 섭씨 온도가 10도일 때\n",
    "# C = 10\n",
    "F = (C * 9 / 5) + 32\n",
    "print(\"섭씨 온도 : \" + str(C))\n",
    "print(\"화씨 온도 : \" + str(F))"
   ]
  },
  {
   "cell_type": "code",
   "execution_count": null,
   "metadata": {},
   "outputs": [],
   "source": []
  }
 ],
 "metadata": {
  "kernelspec": {
   "display_name": "Python 3",
   "language": "python",
   "name": "python3"
  },
  "language_info": {
   "codemirror_mode": {
    "name": "ipython",
    "version": 3
   },
   "file_extension": ".py",
   "mimetype": "text/x-python",
   "name": "python",
   "nbconvert_exporter": "python",
   "pygments_lexer": "ipython3",
   "version": "3.11.4"
  },
  "orig_nbformat": 4
 },
 "nbformat": 4,
 "nbformat_minor": 2
}
